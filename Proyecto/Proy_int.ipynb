{
 "cells": [
  {
   "cell_type": "markdown",
   "id": "a209ebad",
   "metadata": {},
   "source": [
    "<div style=\"text-align: right\">Jonathan Daniel García Herrera</div>\n",
    "<div style=\"text-align: right\">Diana Paola Lagunes Blanco</div>\n",
    "<div style=\"text-align: right\">Arturo Ricardo Villafuerte Vega</div>"
   ]
  },
  {
   "cell_type": "markdown",
   "id": "3988e913",
   "metadata": {},
   "source": [
    "Introducción \n",
    "===\n",
    "\n",
    "El sector bancario, en su línea de negocios de retail banking, es quizá una de las industrias más antiguas en el sector financiero y quizá una de las más reguladas por las autoridades del mismo sector. Durante muchos años, décadas tal vez, el sector ha estado controlado por casi los mismos actores, enfocados en atender a casi los mismos sectores poblaciones.\n",
    "\n",
    "La banca minorista o banca de consumo es la línea de negocio encargada de atender con servicios financieros al público que no son empresas ni instituciones. Los servicios de crédito principales ofrecidos son créditos personales, créditos de nómina, tarjetas de crédito, créditos hipotecarios y créditos para el financiamiento de un auto. De acuerdo al tipo de producto se pueden definir dos segmentaciones importantes: secured lending y unsecured lending.\n",
    "\n",
    "Los créditos garantizados o secured lending son aquellos en los que se tiene una garantía de pago de por medio, ya sea un auto o una casa habitación, es decir, al adquirir un crédito de este tipo, la propiedad (casa) queda hipotecada a favor del banco. Y en el caso de un auto, la factura de este quedará endosada a favor el banco. Por el contrario, en los créditos unsecured no hay garantía de por medio más que la promesa de pago del solicitante.\n",
    "\n",
    "Es claro que cada uno de estos productos atrae a diferentes perfiles de clientes, y al realizar la solicitud para adquirir algún producto, el banco o institución deberá evaluar si el solicitante puede o no ser sujeto de crédito. De acuerdo con la naturaleza de cada préstamo las instituciones financieras definen los límites de riesgo de incumplimiento de pago que están dispuestos a asumir. Entiéndase que  \"los límites de riesgo\" se traducen (de manera muy general) en diversos indicadores de mora, por ejemplo, puede ser de interés medir  y controlar el porcentaje de cuentas y saldo que incurren en 30 días o más de mora durante los primeros 3 meses de vida de un crédito; a este indicador se le conoce como 30+@MOB3 y se calcula como $$\\frac{\\sum_{i}Bal_{i_{MOB_{0}}}}{\\sum_{k}Bal_{k_{MOB_{3}}}^{PV2}}$$\n",
    "\n",
    "Donde:\n",
    "\n",
    "* $BAL_{i_{MOB_{0}}}$ es el balance / saldo del i-ésimo crédito originado en el mes 0 y\n",
    "* $Bal_{k_{MOB_{3}}}^{PV2}$ es el balance del k-ésimo crédito con 30 o más días de mora al cierre del mes 3\n",
    "\n",
    "Tomando este indicador como ejemplo, una pregunta natural sería: ¿qué variables describen el comportamiento de este indicador?, de tal forma que durante la evaluación de un cliente se pueda inferir en qué niveles de morosidad se encontrará 3 meses después de su formalización.\n",
    "\n",
    "Para controlar los niveles de riesgo que la institución tolerará, tradicionalmente (en particular la banca) se desarrollan modelos matemáticos con el fin de predecir si un cliente incurrirá en impago. Estos modelos se han desarrollado por mucho tiempo con variables que empiezan a ser muy tradicionales, además de que los propios modelos ya no parecen ser tan robustos frente a las técnicas de *machine learning* que las nuevas tecnologías y lenguajes de programación ponen al alcance. Esto, combinado con que los bancos han mantenido una baja tolerancia al riesgo, ha permitido el buen posicionamiento de los llamados neobancos y fintechs, que han visto una gran oportunidad de negocio en los segmentos desatendidos por la banca tradicional y que han aprovechado el \"boom\" del desarrollo tecnológico en el área de analítica de datos.\n",
    "\n",
    "Regresando al negocio de banca minorista de las instituciones más tradicionales, es claro que se vuelve necesario introducir el uso de nuevas y diferentes técnicas de modelado. Los bancos lo tienen absolutamente todo para disrumpir nuevamente en su industria: datos en grandes volúmenes, tecnología, presupuesto y experiencia. Sin embargo también hay grandes limitantes: procesos burocráticos y la alta regulación del sector.\n",
    "\n",
    "El riesgo de crédito se vuelve entonces el riesgo que asume una institución financiera al realizar un préstamo. La gestión del riesgo de crédito es el desarrollo de estrategias de admisión de crédito basadas en análisis de datos históricos sobre el comportamiento de los clientes respecto a su deuda, de tal forma que sea posible segmentar a los buenos clientes (pagadores) de los malos (que pueden incurrir en impago). Estas estrategias son comúnmente parametrizadas en motores de dcisión propios de las instituciones.\n",
    "\n",
    "Una vez formalizado un crédito, este se vuelve parte de la cartera y se debe comenzar su gertión con la finalidad anticiparce a un posible deterioro a lo largo del plazo de financimaiento. Esto debido a que, pese a que el cliente pasó por un proceso de evaluación, las estrategias de admisión no son perfectas y pueden admitir clientes que eventualmente no podrán hacer frente a su compromiso de pago, ya sea por un posible sobre endeudamiento o cualquier otro factor atribuible o no al cliente.\n",
    "\n",
    "Los reportes de seguimiento y gestión de cartera se enfocan típicamente en clasificar a los créditos de acuerdo a su estatus de mora en el momento de observación: créditos al corriente son aquéllos  que tiene 0 días de atraso en su pago, créditos en un pago vencido (1 pv) son aquéllos con 1 a 30 días de atraso, créditos con 2 pv son aquéllos con 31 a 60 días de atraso, créditos con 3 pv son aquéllos con 61 a 70 días de atraso, créditos con 4 pv son aquellos con 71 a 80 días de atraso, créditos con 5 pv son aquéllos con 81 a 90 días de atraso, créditos con 6 pv son aquellos con 91 a 120, si el crédito incurre el más de 120 días de atraso se dice que es un crédito castigado o default\n",
    "\n",
    "El impacto económico que genera un crédito en mora es muy alto, pues la institución se ve obligada, por regulación, a generar reservas ante el deterioro de la cartera, además de que se incurren en gastos de recuperación y cobranza. De aquí la relevancia en tener mejores modelos tanto de admisión como de comportamiento de crédito."
   ]
  },
  {
   "cell_type": "markdown",
   "id": "4c3bcb8e",
   "metadata": {},
   "source": [
    "Desarrollo\n",
    "===\n",
    "\n",
    "En este trabajo se aplican diferentes técnicas de exploración de datos con el fin de ajustar dos modelos de clasificación para predecir el incumplimiento de pago de clientes tarjeta-habientes de AMEX. Los datos se obtuvieron del set de datos *amex-default-prediction* de la [competencia de kaggle](https://www.kaggle.com/competitions/amex-default-prediction/data).\n",
    "\n",
    "El desarrollo de este trabajo se resume, de forma general, de la siguiente manera:\n",
    "\n",
    "* Eliminación de variables con 30% o más de valores vacíos\n",
    "* Imputación de valores ausentes en variables con menos de 30% de valores vacíos\n",
    "* Selección de variables para ajustar los modelos\n",
    "* Ajuste del modelo\n",
    "\n",
    "Para el caso de imputación de valores se eligió para todas las variables imputar la media. Por otro lado, para la selección de variables se emplearon dos métodos: Información mutua, con el que se seleccionaron todas las variables con score >=0.01, y posterior menete para reducir la multicolinealidad se realizó un cluster jerárquico de variables.\n",
    "\n",
    "Finalmete se ajustaron, a una muestra de entrenamiento del 30% del total de los datos, una regresión logística y un arbol de decisión de clasificación. El desempeño de los modelos refleja que el mejor modelo fue la regresión logística, con un roc score de 0.81 versus un roc de 0.76 obtenido en el entrenamniento del arbol."
   ]
  },
  {
   "cell_type": "markdown",
   "id": "e82a3744",
   "metadata": {},
   "source": [
    "## Librerías"
   ]
  },
  {
   "cell_type": "code",
   "execution_count": 3,
   "id": "b8c2c99a",
   "metadata": {
    "collapsed": true
   },
   "outputs": [
    {
     "ename": "ModuleNotFoundError",
     "evalue": "No module named 'varclushi'",
     "output_type": "error",
     "traceback": [
      "\u001b[1;31m---------------------------------------------------------------------------\u001b[0m",
      "\u001b[1;31mModuleNotFoundError\u001b[0m                       Traceback (most recent call last)",
      "\u001b[1;32mC:\\Users\\DIANAL~1\\AppData\\Local\\Temp/ipykernel_2732/2684137303.py\u001b[0m in \u001b[0;36m<module>\u001b[1;34m\u001b[0m\n\u001b[0;32m      2\u001b[0m \u001b[1;32mimport\u001b[0m \u001b[0mpandas\u001b[0m \u001b[1;32mas\u001b[0m \u001b[0mpd\u001b[0m\u001b[1;33m\u001b[0m\u001b[1;33m\u001b[0m\u001b[0m\n\u001b[0;32m      3\u001b[0m \u001b[1;32mimport\u001b[0m \u001b[0mseaborn\u001b[0m \u001b[1;32mas\u001b[0m \u001b[0msns\u001b[0m\u001b[1;33m\u001b[0m\u001b[1;33m\u001b[0m\u001b[0m\n\u001b[1;32m----> 4\u001b[1;33m \u001b[1;32mfrom\u001b[0m \u001b[0mvarclushi\u001b[0m \u001b[1;32mimport\u001b[0m \u001b[0mVarClusHi\u001b[0m\u001b[1;33m\u001b[0m\u001b[1;33m\u001b[0m\u001b[0m\n\u001b[0m\u001b[0;32m      5\u001b[0m \u001b[1;32mfrom\u001b[0m \u001b[0msklearn\u001b[0m\u001b[1;33m.\u001b[0m\u001b[0mimpute\u001b[0m \u001b[1;32mimport\u001b[0m \u001b[0mSimpleImputer\u001b[0m\u001b[1;33m\u001b[0m\u001b[1;33m\u001b[0m\u001b[0m\n\u001b[0;32m      6\u001b[0m \u001b[1;32mfrom\u001b[0m \u001b[0msklearn\u001b[0m\u001b[1;33m.\u001b[0m\u001b[0mmetrics\u001b[0m \u001b[1;32mimport\u001b[0m \u001b[0mroc_auc_score\u001b[0m\u001b[1;33m\u001b[0m\u001b[1;33m\u001b[0m\u001b[0m\n",
      "\u001b[1;31mModuleNotFoundError\u001b[0m: No module named 'varclushi'"
     ]
    }
   ],
   "source": [
    "import numpy as np\n",
    "import pandas as pd\n",
    "import seaborn as sns\n",
    "from varclushi import VarClusHi\n",
    "from sklearn.impute import SimpleImputer\n",
    "from sklearn.metrics import roc_auc_score\n",
    "from sklearn.tree import DecisionTreeClassifier\n",
    "from sklearn.linear_model import LogisticRegression\n",
    "from sklearn.model_selection import cross_val_score\n",
    "from sklearn.model_selection import train_test_split\n",
    "from sklearn.feature_selection import VarianceThreshold\n",
    "from sklearn.feature_selection import mutual_info_classif\n",
    "import matplotlib.pyplot as plt\n",
    "\n",
    "import warnings\n",
    "warnings.filterwarnings('ignore')"
   ]
  },
  {
   "cell_type": "markdown",
   "id": "8b8bb893",
   "metadata": {},
   "source": [
    "## Carga de documentos"
   ]
  },
  {
   "cell_type": "code",
   "execution_count": 2,
   "id": "073cf3f4",
   "metadata": {},
   "outputs": [],
   "source": [
    "ruta = \"../Datos/amex-default-prediction/\""
   ]
  },
  {
   "cell_type": "code",
   "execution_count": 3,
   "id": "9d0c9748",
   "metadata": {},
   "outputs": [],
   "source": [
    "training = pd.read_csv(ruta + \"train_data.csv\")\n",
    "target = pd.read_csv(ruta + \"train_labels.csv\")"
   ]
  },
  {
   "cell_type": "code",
   "execution_count": 4,
   "id": "bbdabbb9",
   "metadata": {},
   "outputs": [
    {
     "data": {
      "text/plain": [
       "(5531451, 190)"
      ]
     },
     "execution_count": 4,
     "metadata": {},
     "output_type": "execute_result"
    }
   ],
   "source": [
    "training.shape"
   ]
  },
  {
   "cell_type": "markdown",
   "id": "d789aaf4",
   "metadata": {},
   "source": [
    "## Porcentaje de missings por variable"
   ]
  },
  {
   "cell_type": "markdown",
   "id": "5958b061",
   "metadata": {},
   "source": [
    "En las siguientes líneas de código se realiza la selección de variables que cumplen con un cierto porcentaje de valores missing. Dado que no se cuenta con una descripción detallada sobre las variables, y que estas están escaladas a valores dentro del rango [0,1], no se tiene mayor detalle sobre los valores ausentes. Es decir, no podemos identificar que valores es normal que sean vacíos. Ante esta situación, y con el fin no afectar las distribuciones de cada variable, se ha decidido conservar aquéllas que tienen completitud de 30% o más. Las que no cumplan esta condición serán descartadas."
   ]
  },
  {
   "cell_type": "code",
   "execution_count": 5,
   "id": "0de93365",
   "metadata": {},
   "outputs": [],
   "source": [
    "def missings(df = training, pct = 0.3):\n",
    "    vacios = df.isnull().sum()/len(df)\n",
    "    ls_missings = [variable for variable, valor in vacios.items() if valor>0 and valor<pct]\n",
    "    ls_remover = [variable for variable, valor in vacios.items() if valor>=pct]\n",
    "    return ls_missings, ls_remover"
   ]
  },
  {
   "cell_type": "code",
   "execution_count": 6,
   "id": "9aa7a963",
   "metadata": {},
   "outputs": [],
   "source": [
    "missings, remover = missings(training, 0.3)"
   ]
  },
  {
   "cell_type": "code",
   "execution_count": 7,
   "id": "98ed422c",
   "metadata": {},
   "outputs": [],
   "source": [
    "variables = [v for v in list(training.columns) if v not in remover]"
   ]
  },
  {
   "cell_type": "code",
   "execution_count": 8,
   "id": "c28953a4",
   "metadata": {},
   "outputs": [],
   "source": [
    "training = training[variables].copy()"
   ]
  },
  {
   "cell_type": "markdown",
   "id": "3b298304",
   "metadata": {},
   "source": [
    "# Pegamos el target"
   ]
  },
  {
   "cell_type": "markdown",
   "id": "8a6f1ee3",
   "metadata": {},
   "source": [
    "En las siguientes celdas realizamos simplemente un cruce para pegar las variables predictoras a su target correspondiente."
   ]
  },
  {
   "cell_type": "code",
   "execution_count": 9,
   "id": "4bbebab2",
   "metadata": {},
   "outputs": [],
   "source": [
    "df_training = pd.merge(left = training, \n",
    "                       right = target,\n",
    "                       how = 'left',\n",
    "                       on = ['customer_ID']).reset_index(drop = True)"
   ]
  },
  {
   "cell_type": "code",
   "execution_count": 10,
   "id": "439d9c84",
   "metadata": {},
   "outputs": [
    {
     "data": {
      "text/plain": [
       "customer_ID     object\n",
       "S_2             object\n",
       "P_2            float64\n",
       "D_39           float64\n",
       "B_1            float64\n",
       "                ...   \n",
       "D_141          float64\n",
       "D_143          float64\n",
       "D_144          float64\n",
       "D_145          float64\n",
       "target           int64\n",
       "Length: 160, dtype: object"
      ]
     },
     "execution_count": 10,
     "metadata": {},
     "output_type": "execute_result"
    }
   ],
   "source": [
    "df_training.dtypes"
   ]
  },
  {
   "cell_type": "markdown",
   "id": "3e20646d",
   "metadata": {},
   "source": [
    "# Separar las variables según su tipo"
   ]
  },
  {
   "cell_type": "markdown",
   "id": "55da9823",
   "metadata": {},
   "source": [
    "El siguiente código tiene el fin de identificar y separar las vairbales numéricas de las variables de texto"
   ]
  },
  {
   "cell_type": "code",
   "execution_count": 11,
   "id": "e21dbbb3",
   "metadata": {},
   "outputs": [
    {
     "name": "stdout",
     "output_type": "stream",
     "text": [
      "3\n",
      "155\n"
     ]
    }
   ],
   "source": [
    "ID = ['customer_ID']\n",
    "tgt = ['target']\n",
    "ls_discretas = [v for v in df_training.columns if df_training[v].dtype == 'object' and v not in ID]\n",
    "ls_numericas = [v for v in df_training.columns if df_training[v].dtype != 'object' and v not in tgt]\n",
    "print(len(ls_discretas))\n",
    "print(len(ls_numericas))"
   ]
  },
  {
   "cell_type": "markdown",
   "id": "fdb0b02a",
   "metadata": {},
   "source": [
    "# Imputacion de valores ausentes para variables numéricas"
   ]
  },
  {
   "cell_type": "markdown",
   "id": "54c58b5b",
   "metadata": {},
   "source": [
    "Recordando que anteriormente se descartaron las variables con más del 30% de valores missings, en las siguiente líneas imputaremos la mediana a los valores ausentes de las variables restantes, en los casos donde aplique."
   ]
  },
  {
   "cell_type": "code",
   "execution_count": 12,
   "id": "0402955e",
   "metadata": {},
   "outputs": [
    {
     "data": {
      "text/plain": [
       "90"
      ]
     },
     "execution_count": 12,
     "metadata": {},
     "output_type": "execute_result"
    }
   ],
   "source": [
    "imputar = [var for var in ls_numericas if var in missings]\n",
    "len(imputar)"
   ]
  },
  {
   "cell_type": "code",
   "execution_count": 13,
   "id": "b4554334",
   "metadata": {},
   "outputs": [
    {
     "data": {
      "text/html": [
       "<style>#sk-container-id-1 {color: black;background-color: white;}#sk-container-id-1 pre{padding: 0;}#sk-container-id-1 div.sk-toggleable {background-color: white;}#sk-container-id-1 label.sk-toggleable__label {cursor: pointer;display: block;width: 100%;margin-bottom: 0;padding: 0.3em;box-sizing: border-box;text-align: center;}#sk-container-id-1 label.sk-toggleable__label-arrow:before {content: \"▸\";float: left;margin-right: 0.25em;color: #696969;}#sk-container-id-1 label.sk-toggleable__label-arrow:hover:before {color: black;}#sk-container-id-1 div.sk-estimator:hover label.sk-toggleable__label-arrow:before {color: black;}#sk-container-id-1 div.sk-toggleable__content {max-height: 0;max-width: 0;overflow: hidden;text-align: left;background-color: #f0f8ff;}#sk-container-id-1 div.sk-toggleable__content pre {margin: 0.2em;color: black;border-radius: 0.25em;background-color: #f0f8ff;}#sk-container-id-1 input.sk-toggleable__control:checked~div.sk-toggleable__content {max-height: 200px;max-width: 100%;overflow: auto;}#sk-container-id-1 input.sk-toggleable__control:checked~label.sk-toggleable__label-arrow:before {content: \"▾\";}#sk-container-id-1 div.sk-estimator input.sk-toggleable__control:checked~label.sk-toggleable__label {background-color: #d4ebff;}#sk-container-id-1 div.sk-label input.sk-toggleable__control:checked~label.sk-toggleable__label {background-color: #d4ebff;}#sk-container-id-1 input.sk-hidden--visually {border: 0;clip: rect(1px 1px 1px 1px);clip: rect(1px, 1px, 1px, 1px);height: 1px;margin: -1px;overflow: hidden;padding: 0;position: absolute;width: 1px;}#sk-container-id-1 div.sk-estimator {font-family: monospace;background-color: #f0f8ff;border: 1px dotted black;border-radius: 0.25em;box-sizing: border-box;margin-bottom: 0.5em;}#sk-container-id-1 div.sk-estimator:hover {background-color: #d4ebff;}#sk-container-id-1 div.sk-parallel-item::after {content: \"\";width: 100%;border-bottom: 1px solid gray;flex-grow: 1;}#sk-container-id-1 div.sk-label:hover label.sk-toggleable__label {background-color: #d4ebff;}#sk-container-id-1 div.sk-serial::before {content: \"\";position: absolute;border-left: 1px solid gray;box-sizing: border-box;top: 0;bottom: 0;left: 50%;z-index: 0;}#sk-container-id-1 div.sk-serial {display: flex;flex-direction: column;align-items: center;background-color: white;padding-right: 0.2em;padding-left: 0.2em;position: relative;}#sk-container-id-1 div.sk-item {position: relative;z-index: 1;}#sk-container-id-1 div.sk-parallel {display: flex;align-items: stretch;justify-content: center;background-color: white;position: relative;}#sk-container-id-1 div.sk-item::before, #sk-container-id-1 div.sk-parallel-item::before {content: \"\";position: absolute;border-left: 1px solid gray;box-sizing: border-box;top: 0;bottom: 0;left: 50%;z-index: -1;}#sk-container-id-1 div.sk-parallel-item {display: flex;flex-direction: column;z-index: 1;position: relative;background-color: white;}#sk-container-id-1 div.sk-parallel-item:first-child::after {align-self: flex-end;width: 50%;}#sk-container-id-1 div.sk-parallel-item:last-child::after {align-self: flex-start;width: 50%;}#sk-container-id-1 div.sk-parallel-item:only-child::after {width: 0;}#sk-container-id-1 div.sk-dashed-wrapped {border: 1px dashed gray;margin: 0 0.4em 0.5em 0.4em;box-sizing: border-box;padding-bottom: 0.4em;background-color: white;}#sk-container-id-1 div.sk-label label {font-family: monospace;font-weight: bold;display: inline-block;line-height: 1.2em;}#sk-container-id-1 div.sk-label-container {text-align: center;}#sk-container-id-1 div.sk-container {/* jupyter's `normalize.less` sets `[hidden] { display: none; }` but bootstrap.min.css set `[hidden] { display: none !important; }` so we also need the `!important` here to be able to override the default hidden behavior on the sphinx rendered scikit-learn.org. See: https://github.com/scikit-learn/scikit-learn/issues/21755 */display: inline-block !important;position: relative;}#sk-container-id-1 div.sk-text-repr-fallback {display: none;}</style><div id=\"sk-container-id-1\" class=\"sk-top-container\"><div class=\"sk-text-repr-fallback\"><pre>SimpleImputer(strategy=&#x27;median&#x27;)</pre><b>In a Jupyter environment, please rerun this cell to show the HTML representation or trust the notebook. <br />On GitHub, the HTML representation is unable to render, please try loading this page with nbviewer.org.</b></div><div class=\"sk-container\" hidden><div class=\"sk-item\"><div class=\"sk-estimator sk-toggleable\"><input class=\"sk-toggleable__control sk-hidden--visually\" id=\"sk-estimator-id-1\" type=\"checkbox\" checked><label for=\"sk-estimator-id-1\" class=\"sk-toggleable__label sk-toggleable__label-arrow\">SimpleImputer</label><div class=\"sk-toggleable__content\"><pre>SimpleImputer(strategy=&#x27;median&#x27;)</pre></div></div></div></div></div>"
      ],
      "text/plain": [
       "SimpleImputer(strategy='median')"
      ]
     },
     "execution_count": 13,
     "metadata": {},
     "output_type": "execute_result"
    }
   ],
   "source": [
    "im = SimpleImputer(strategy='median')\n",
    "im.fit(df_training[imputar])"
   ]
  },
  {
   "cell_type": "code",
   "execution_count": 14,
   "id": "942cb9ff",
   "metadata": {},
   "outputs": [],
   "source": [
    "aux = df_training.copy()\n",
    "aux[imputar]=im.transform(aux[imputar])"
   ]
  },
  {
   "cell_type": "code",
   "execution_count": 15,
   "id": "89619987",
   "metadata": {},
   "outputs": [
    {
     "data": {
      "text/plain": [
       "(5531451, 160)"
      ]
     },
     "execution_count": 15,
     "metadata": {},
     "output_type": "execute_result"
    }
   ],
   "source": [
    "aux.shape"
   ]
  },
  {
   "cell_type": "markdown",
   "id": "6b0a022e",
   "metadata": {},
   "source": [
    "# Training-Test Split"
   ]
  },
  {
   "cell_type": "markdown",
   "id": "b1dc5db0",
   "metadata": {},
   "source": [
    "Con el fin de tener ua muestra reducida y poder realizar los entrenamientos de los modelos de clasificación, se realizará una partición del conjunto de datos, con 70% de observaciones para el conjunto de entrenaniento y 30% para el conjunto de validación."
   ]
  },
  {
   "cell_type": "code",
   "execution_count": 16,
   "id": "4cd91a39",
   "metadata": {},
   "outputs": [],
   "source": [
    "#aux_sample = aux.sample(frac=0.2, random_state=135)\n",
    "#aux_sample.shape\n",
    "#aux_sample.to_csv('muestreo.csv', index = False)"
   ]
  },
  {
   "cell_type": "code",
   "execution_count": 17,
   "id": "abb79d7c",
   "metadata": {},
   "outputs": [],
   "source": [
    "aux_sample, test = train_test_split(aux, test_size = 0.70)"
   ]
  },
  {
   "cell_type": "code",
   "execution_count": 18,
   "id": "e584aa01",
   "metadata": {},
   "outputs": [
    {
     "data": {
      "text/plain": [
       "(1659435, 160)"
      ]
     },
     "execution_count": 18,
     "metadata": {},
     "output_type": "execute_result"
    }
   ],
   "source": [
    "aux_sample.shape"
   ]
  },
  {
   "cell_type": "markdown",
   "id": "e21623e2",
   "metadata": {},
   "source": [
    "# Seleccion de variables"
   ]
  },
  {
   "cell_type": "markdown",
   "id": "42ed266c",
   "metadata": {},
   "source": [
    "Una vez particionado los datos, queda seleccionar las variables que más pueden predecir la variable target (default o no default), por lo que tenemos que elegir, de las 159 variables del dataset, las que mejor ayuden a describir el fenómeno. Para esto haremos uso de dos técnicas: Información Mutua para identificar cualquier tipo de relación (lineal o no lineal) entre las variables predictorias y la variable objetivo.\n",
    "\n",
    "También haremos clustering de variables para eliminar la multicolinealidad y seleccionar las variables que mejor describen la varianza de los datos"
   ]
  },
  {
   "cell_type": "markdown",
   "id": "e74775e3",
   "metadata": {},
   "source": [
    "## Mutual Information"
   ]
  },
  {
   "cell_type": "code",
   "execution_count": 19,
   "id": "1861a5d5",
   "metadata": {},
   "outputs": [],
   "source": [
    "# Label encoding for categoricals\n",
    "for colname in aux_sample[ls_numericas].select_dtypes(\"object\"):\n",
    "    aux_sample[ls_numericas][colname], _ = aux_sample[ls_numericas][colname].factorize()\n",
    "\n",
    "# All discrete features should now have integer dtypes (double-check this before using MI!)\n",
    "discrete_features = aux_sample[ls_numericas].dtypes == int"
   ]
  },
  {
   "cell_type": "code",
   "execution_count": 20,
   "id": "3f2f5cc6",
   "metadata": {},
   "outputs": [],
   "source": [
    "def make_mi_scores(X, y, discrete_features):\n",
    "    mi_scores = mutual_info_classif(X, y, discrete_features=discrete_features)\n",
    "    mi_scores = pd.Series(mi_scores, name=\"MI Scores\", index=X.columns)\n",
    "    mi_scores = mi_scores.sort_values(ascending=False)\n",
    "    return mi_scores\n",
    "\n",
    "mi_scores = make_mi_scores(aux_sample[ls_numericas], aux_sample.target, discrete_features)"
   ]
  },
  {
   "cell_type": "code",
   "execution_count": 21,
   "id": "79625ef5",
   "metadata": {},
   "outputs": [],
   "source": [
    "# Seleccionamos todas las variables con score>=0.01\n",
    "features = [variable for variable, valor in mi_scores.items() if valor>=0.01]"
   ]
  },
  {
   "cell_type": "markdown",
   "id": "4aac7937",
   "metadata": {},
   "source": [
    "## Clustering de variables"
   ]
  },
  {
   "cell_type": "code",
   "execution_count": 22,
   "id": "35c3358a",
   "metadata": {},
   "outputs": [],
   "source": [
    "vc = VarClusHi(aux_sample[features])"
   ]
  },
  {
   "cell_type": "code",
   "execution_count": 23,
   "id": "2b08b61c",
   "metadata": {},
   "outputs": [],
   "source": [
    "vc = VarClusHi(aux_sample[features])\n",
    "vc.varclus()\n",
    "aux2 = vc.rsquare.copy()\n",
    "aux2 = aux2.sort_values(['Cluster','RS_Ratio'],ascending=[1,1]).reset_index(drop=True)\n",
    "aux2['k'] = aux2.groupby('Cluster').cumcount()+1\n",
    "varc = aux2.loc[aux2.k==1]['Variable'].to_list()"
   ]
  },
  {
   "cell_type": "code",
   "execution_count": 24,
   "id": "10860cf8",
   "metadata": {},
   "outputs": [
    {
     "data": {
      "text/plain": [
       "26"
      ]
     },
     "execution_count": 24,
     "metadata": {},
     "output_type": "execute_result"
    }
   ],
   "source": [
    "len(varc)"
   ]
  },
  {
   "cell_type": "code",
   "execution_count": 25,
   "id": "13c33822",
   "metadata": {
    "scrolled": true
   },
   "outputs": [
    {
     "data": {
      "text/plain": [
       "0    0.75111\n",
       "1    0.24889\n",
       "Name: target, dtype: float64"
      ]
     },
     "execution_count": 25,
     "metadata": {},
     "output_type": "execute_result"
    }
   ],
   "source": [
    "aux_sample[tgt + varc].target.value_counts(True)"
   ]
  },
  {
   "cell_type": "markdown",
   "id": "a44f12bb",
   "metadata": {},
   "source": [
    "Una vez implementados los algoritmos de información mutua y clustering jerárquico de variables, nos quedamos al final con 28 variables predictoras;"
   ]
  },
  {
   "cell_type": "code",
   "execution_count": 26,
   "id": "c60e61bc",
   "metadata": {},
   "outputs": [
    {
     "data": {
      "text/plain": [
       "['B_33',\n",
       " 'D_118',\n",
       " 'R_4',\n",
       " 'D_75',\n",
       " 'S_3',\n",
       " 'D_131',\n",
       " 'D_51',\n",
       " 'S_24',\n",
       " 'B_13',\n",
       " 'D_41',\n",
       " 'D_43',\n",
       " 'D_45',\n",
       " 'S_16',\n",
       " 'B_14',\n",
       " 'D_48',\n",
       " 'D_81',\n",
       " 'R_7',\n",
       " 'B_37',\n",
       " 'S_15',\n",
       " 'D_128',\n",
       " 'R_10',\n",
       " 'S_27',\n",
       " 'D_120',\n",
       " 'D_121',\n",
       " 'B_26',\n",
       " 'B_40']"
      ]
     },
     "execution_count": 26,
     "metadata": {},
     "output_type": "execute_result"
    }
   ],
   "source": [
    "varc"
   ]
  },
  {
   "cell_type": "markdown",
   "id": "c98b1f4d",
   "metadata": {},
   "source": [
    "Las variables seleccionadas a partir del análisis realizado fueron 28, de las cuales saqueremos algunas descripciones y veremos la correlación existente entre el target.\n",
    "\n",
    "A continuación se presentan algunas gráficas que nos permiten ver:\n",
    "1. La diferencia entre Default y No Default\n",
    "2. Correlación existente entre las variables, donde observamos que target tiene tanto correlación positiva como negativa con las variables seleccionadas. "
   ]
  },
  {
   "cell_type": "code",
   "execution_count": 5,
   "id": "635c28d7",
   "metadata": {},
   "outputs": [],
   "source": [
    "varc = varc[['B_33', 'D_118',\n",
    "             'R_4', 'D_75', 'S_3', 'D_131', 'D_51', 'S_24', 'B_13', 'D_41', 'D_43', 'D_45', 'S_16', \n",
    "             'B_14', 'D_48', 'D_81', 'R_7', 'B_37', 'S_15', 'D_128', 'R_10', 'S_27', 'D_120', 'D_121', 'B_26', 'B_40','target']]"
   ]
  },
  {
   "cell_type": "code",
   "execution_count": 6,
   "id": "2cc7498a",
   "metadata": {},
   "outputs": [
    {
     "data": {
      "text/plain": [
       "<AxesSubplot:title={'center':'Target, Default Payment'}>"
      ]
     },
     "execution_count": 6,
     "metadata": {},
     "output_type": "execute_result"
    },
    {
     "data": {
      "image/png": "[encoded data removed]",
      "text/plain": [
       "<Figure size 432x288 with 1 Axes>"
      ]
     },
     "metadata": {
      "needs_background": "light"
     },
     "output_type": "display_data"
    }
   ],
   "source": [
    "varc['target'].value_counts().plot(kind='bar',\n",
    "                                            title='Target, Default Payment')"
   ]
  },
  {
   "cell_type": "code",
   "execution_count": 11,
   "id": "ef71cb67",
   "metadata": {},
   "outputs": [
    {
     "data": {
      "text/plain": [
       "<AxesSubplot:>"
      ]
     },
     "execution_count": 11,
     "metadata": {},
     "output_type": "execute_result"
    },
    {
     "data": {
      "image/png": "[encoded data removed]",
      "text/plain": [
       "<Figure size 720x576 with 2 Axes>"
      ]
     },
     "metadata": {
      "needs_background": "light"
     },
     "output_type": "display_data"
    }
   ],
   "source": [
    "# Compute the correlation matrix\n",
    "corr = varc.corr()\n",
    "\n",
    "# Generate a mask for the upper triangle\n",
    "mask = np.triu(np.ones_like(corr, dtype=bool))\n",
    "\n",
    "# Set up the matplotlib figure\n",
    "f, ax = plt.subplots(figsize=(10, 8))\n",
    "\n",
    "# Generate a custom diverging colormap\n",
    "cmap = sns.diverging_palette(230, 20, as_cmap=True)\n",
    "\n",
    "# Draw the heatmap with the mask and correct aspect ratio\n",
    "sns.heatmap(corr, mask=mask, cmap=cmap, vmax=.3, center=0,\n",
    "            square=True, linewidths=.5, cbar_kws={\"shrink\": .5})"
   ]
  },
  {
   "cell_type": "code",
   "execution_count": 10,
   "id": "cf68b35f",
   "metadata": {},
   "outputs": [
    {
     "data": {
      "text/plain": [
       "<AxesSubplot:>"
      ]
     },
     "execution_count": 10,
     "metadata": {},
     "output_type": "execute_result"
    },
    {
     "data": {
      "image/png": "[encoded data removed]",
      "text/plain": [
       "<Figure size 720x576 with 2 Axes>"
      ]
     },
     "metadata": {
      "needs_background": "light"
     },
     "output_type": "display_data"
    }
   ],
   "source": [
    "plt.subplots(figsize=(10, 8))\n",
    "sns.heatmap(varc.corr())"
   ]
  },
  {
   "cell_type": "markdown",
   "id": "31327780",
   "metadata": {},
   "source": [
    "## Implementación de modelos"
   ]
  },
  {
   "cell_type": "markdown",
   "id": "a4dc04ca",
   "metadata": {},
   "source": [
    "Por simplicidad renombramos las variables de la siguiente forma:"
   ]
  },
  {
   "cell_type": "code",
   "execution_count": 28,
   "id": "85afff87",
   "metadata": {},
   "outputs": [],
   "source": [
    "# Variables predictoras:\n",
    "X = aux_sample[features]\n",
    "#Variable objetivo\n",
    "y = aux_sample[tgt]"
   ]
  },
  {
   "cell_type": "markdown",
   "id": "0dc94074",
   "metadata": {},
   "source": [
    "## Regresión logística"
   ]
  },
  {
   "cell_type": "markdown",
   "id": "91bf5616",
   "metadata": {},
   "source": [
    "Se ha elegido, en primera instancia, una regresión logística por su simplicidad. Pensando que los modelos de originación de crédito son auditables y fáciles de implementar se opta, en primer lugar, por abordar el problema usando un modelo sencillo. "
   ]
  },
  {
   "cell_type": "code",
   "execution_count": 29,
   "id": "a34ad3b0",
   "metadata": {},
   "outputs": [
    {
     "data": {
      "text/html": [
       "<style>#sk-container-id-2 {color: black;background-color: white;}#sk-container-id-2 pre{padding: 0;}#sk-container-id-2 div.sk-toggleable {background-color: white;}#sk-container-id-2 label.sk-toggleable__label {cursor: pointer;display: block;width: 100%;margin-bottom: 0;padding: 0.3em;box-sizing: border-box;text-align: center;}#sk-container-id-2 label.sk-toggleable__label-arrow:before {content: \"▸\";float: left;margin-right: 0.25em;color: #696969;}#sk-container-id-2 label.sk-toggleable__label-arrow:hover:before {color: black;}#sk-container-id-2 div.sk-estimator:hover label.sk-toggleable__label-arrow:before {color: black;}#sk-container-id-2 div.sk-toggleable__content {max-height: 0;max-width: 0;overflow: hidden;text-align: left;background-color: #f0f8ff;}#sk-container-id-2 div.sk-toggleable__content pre {margin: 0.2em;color: black;border-radius: 0.25em;background-color: #f0f8ff;}#sk-container-id-2 input.sk-toggleable__control:checked~div.sk-toggleable__content {max-height: 200px;max-width: 100%;overflow: auto;}#sk-container-id-2 input.sk-toggleable__control:checked~label.sk-toggleable__label-arrow:before {content: \"▾\";}#sk-container-id-2 div.sk-estimator input.sk-toggleable__control:checked~label.sk-toggleable__label {background-color: #d4ebff;}#sk-container-id-2 div.sk-label input.sk-toggleable__control:checked~label.sk-toggleable__label {background-color: #d4ebff;}#sk-container-id-2 input.sk-hidden--visually {border: 0;clip: rect(1px 1px 1px 1px);clip: rect(1px, 1px, 1px, 1px);height: 1px;margin: -1px;overflow: hidden;padding: 0;position: absolute;width: 1px;}#sk-container-id-2 div.sk-estimator {font-family: monospace;background-color: #f0f8ff;border: 1px dotted black;border-radius: 0.25em;box-sizing: border-box;margin-bottom: 0.5em;}#sk-container-id-2 div.sk-estimator:hover {background-color: #d4ebff;}#sk-container-id-2 div.sk-parallel-item::after {content: \"\";width: 100%;border-bottom: 1px solid gray;flex-grow: 1;}#sk-container-id-2 div.sk-label:hover label.sk-toggleable__label {background-color: #d4ebff;}#sk-container-id-2 div.sk-serial::before {content: \"\";position: absolute;border-left: 1px solid gray;box-sizing: border-box;top: 0;bottom: 0;left: 50%;z-index: 0;}#sk-container-id-2 div.sk-serial {display: flex;flex-direction: column;align-items: center;background-color: white;padding-right: 0.2em;padding-left: 0.2em;position: relative;}#sk-container-id-2 div.sk-item {position: relative;z-index: 1;}#sk-container-id-2 div.sk-parallel {display: flex;align-items: stretch;justify-content: center;background-color: white;position: relative;}#sk-container-id-2 div.sk-item::before, #sk-container-id-2 div.sk-parallel-item::before {content: \"\";position: absolute;border-left: 1px solid gray;box-sizing: border-box;top: 0;bottom: 0;left: 50%;z-index: -1;}#sk-container-id-2 div.sk-parallel-item {display: flex;flex-direction: column;z-index: 1;position: relative;background-color: white;}#sk-container-id-2 div.sk-parallel-item:first-child::after {align-self: flex-end;width: 50%;}#sk-container-id-2 div.sk-parallel-item:last-child::after {align-self: flex-start;width: 50%;}#sk-container-id-2 div.sk-parallel-item:only-child::after {width: 0;}#sk-container-id-2 div.sk-dashed-wrapped {border: 1px dashed gray;margin: 0 0.4em 0.5em 0.4em;box-sizing: border-box;padding-bottom: 0.4em;background-color: white;}#sk-container-id-2 div.sk-label label {font-family: monospace;font-weight: bold;display: inline-block;line-height: 1.2em;}#sk-container-id-2 div.sk-label-container {text-align: center;}#sk-container-id-2 div.sk-container {/* jupyter's `normalize.less` sets `[hidden] { display: none; }` but bootstrap.min.css set `[hidden] { display: none !important; }` so we also need the `!important` here to be able to override the default hidden behavior on the sphinx rendered scikit-learn.org. See: https://github.com/scikit-learn/scikit-learn/issues/21755 */display: inline-block !important;position: relative;}#sk-container-id-2 div.sk-text-repr-fallback {display: none;}</style><div id=\"sk-container-id-2\" class=\"sk-top-container\"><div class=\"sk-text-repr-fallback\"><pre>LogisticRegression()</pre><b>In a Jupyter environment, please rerun this cell to show the HTML representation or trust the notebook. <br />On GitHub, the HTML representation is unable to render, please try loading this page with nbviewer.org.</b></div><div class=\"sk-container\" hidden><div class=\"sk-item\"><div class=\"sk-estimator sk-toggleable\"><input class=\"sk-toggleable__control sk-hidden--visually\" id=\"sk-estimator-id-2\" type=\"checkbox\" checked><label for=\"sk-estimator-id-2\" class=\"sk-toggleable__label sk-toggleable__label-arrow\">LogisticRegression</label><div class=\"sk-toggleable__content\"><pre>LogisticRegression()</pre></div></div></div></div></div>"
      ],
      "text/plain": [
       "LogisticRegression()"
      ]
     },
     "execution_count": 29,
     "metadata": {},
     "output_type": "execute_result"
    }
   ],
   "source": [
    "log_r = LogisticRegression()\n",
    "log_r.fit(X, y)"
   ]
  },
  {
   "cell_type": "markdown",
   "id": "47242c4b",
   "metadata": {},
   "source": [
    "#### Accuracy"
   ]
  },
  {
   "cell_type": "code",
   "execution_count": 30,
   "id": "fd7c698f",
   "metadata": {},
   "outputs": [
    {
     "data": {
      "text/plain": [
       "0.8687137489567233"
      ]
     },
     "execution_count": 30,
     "metadata": {},
     "output_type": "execute_result"
    }
   ],
   "source": [
    "log_r.score(X, y)"
   ]
  },
  {
   "cell_type": "markdown",
   "id": "d18695d3",
   "metadata": {},
   "source": [
    "#### ROC"
   ]
  },
  {
   "cell_type": "code",
   "execution_count": 31,
   "id": "82cf364d",
   "metadata": {},
   "outputs": [
    {
     "data": {
      "text/plain": [
       "0.81216772740409"
      ]
     },
     "execution_count": 31,
     "metadata": {},
     "output_type": "execute_result"
    }
   ],
   "source": [
    "roc_auc_score(y_true=y, y_score=log_r.predict(X))"
   ]
  },
  {
   "cell_type": "markdown",
   "id": "aa57d78d",
   "metadata": {},
   "source": [
    "### Validación"
   ]
  },
  {
   "cell_type": "code",
   "execution_count": 32,
   "id": "c0a52e7e",
   "metadata": {},
   "outputs": [],
   "source": [
    "X_val = test[features]\n",
    "y_val = test[tgt]"
   ]
  },
  {
   "cell_type": "code",
   "execution_count": 33,
   "id": "0153859f",
   "metadata": {},
   "outputs": [
    {
     "data": {
      "text/plain": [
       "0.8116957310633377"
      ]
     },
     "execution_count": 33,
     "metadata": {},
     "output_type": "execute_result"
    }
   ],
   "source": [
    "roc_auc_score(y_true=y_val, y_score=log_r.predict(X_val))"
   ]
  },
  {
   "cell_type": "markdown",
   "id": "363a005e",
   "metadata": {},
   "source": [
    "## Árbol de decisión"
   ]
  },
  {
   "cell_type": "markdown",
   "id": "5aba2eeb",
   "metadata": {},
   "source": [
    "Con el fin de comparar el desempeño de la regresión logística, se entrena un árbol de decisión."
   ]
  },
  {
   "cell_type": "code",
   "execution_count": 34,
   "id": "991a524b",
   "metadata": {},
   "outputs": [],
   "source": [
    "arb = DecisionTreeClassifier(criterion = 'entropy')"
   ]
  },
  {
   "cell_type": "code",
   "execution_count": 35,
   "id": "51e727f4",
   "metadata": {},
   "outputs": [
    {
     "data": {
      "text/html": [
       "<style>#sk-container-id-3 {color: black;background-color: white;}#sk-container-id-3 pre{padding: 0;}#sk-container-id-3 div.sk-toggleable {background-color: white;}#sk-container-id-3 label.sk-toggleable__label {cursor: pointer;display: block;width: 100%;margin-bottom: 0;padding: 0.3em;box-sizing: border-box;text-align: center;}#sk-container-id-3 label.sk-toggleable__label-arrow:before {content: \"▸\";float: left;margin-right: 0.25em;color: #696969;}#sk-container-id-3 label.sk-toggleable__label-arrow:hover:before {color: black;}#sk-container-id-3 div.sk-estimator:hover label.sk-toggleable__label-arrow:before {color: black;}#sk-container-id-3 div.sk-toggleable__content {max-height: 0;max-width: 0;overflow: hidden;text-align: left;background-color: #f0f8ff;}#sk-container-id-3 div.sk-toggleable__content pre {margin: 0.2em;color: black;border-radius: 0.25em;background-color: #f0f8ff;}#sk-container-id-3 input.sk-toggleable__control:checked~div.sk-toggleable__content {max-height: 200px;max-width: 100%;overflow: auto;}#sk-container-id-3 input.sk-toggleable__control:checked~label.sk-toggleable__label-arrow:before {content: \"▾\";}#sk-container-id-3 div.sk-estimator input.sk-toggleable__control:checked~label.sk-toggleable__label {background-color: #d4ebff;}#sk-container-id-3 div.sk-label input.sk-toggleable__control:checked~label.sk-toggleable__label {background-color: #d4ebff;}#sk-container-id-3 input.sk-hidden--visually {border: 0;clip: rect(1px 1px 1px 1px);clip: rect(1px, 1px, 1px, 1px);height: 1px;margin: -1px;overflow: hidden;padding: 0;position: absolute;width: 1px;}#sk-container-id-3 div.sk-estimator {font-family: monospace;background-color: #f0f8ff;border: 1px dotted black;border-radius: 0.25em;box-sizing: border-box;margin-bottom: 0.5em;}#sk-container-id-3 div.sk-estimator:hover {background-color: #d4ebff;}#sk-container-id-3 div.sk-parallel-item::after {content: \"\";width: 100%;border-bottom: 1px solid gray;flex-grow: 1;}#sk-container-id-3 div.sk-label:hover label.sk-toggleable__label {background-color: #d4ebff;}#sk-container-id-3 div.sk-serial::before {content: \"\";position: absolute;border-left: 1px solid gray;box-sizing: border-box;top: 0;bottom: 0;left: 50%;z-index: 0;}#sk-container-id-3 div.sk-serial {display: flex;flex-direction: column;align-items: center;background-color: white;padding-right: 0.2em;padding-left: 0.2em;position: relative;}#sk-container-id-3 div.sk-item {position: relative;z-index: 1;}#sk-container-id-3 div.sk-parallel {display: flex;align-items: stretch;justify-content: center;background-color: white;position: relative;}#sk-container-id-3 div.sk-item::before, #sk-container-id-3 div.sk-parallel-item::before {content: \"\";position: absolute;border-left: 1px solid gray;box-sizing: border-box;top: 0;bottom: 0;left: 50%;z-index: -1;}#sk-container-id-3 div.sk-parallel-item {display: flex;flex-direction: column;z-index: 1;position: relative;background-color: white;}#sk-container-id-3 div.sk-parallel-item:first-child::after {align-self: flex-end;width: 50%;}#sk-container-id-3 div.sk-parallel-item:last-child::after {align-self: flex-start;width: 50%;}#sk-container-id-3 div.sk-parallel-item:only-child::after {width: 0;}#sk-container-id-3 div.sk-dashed-wrapped {border: 1px dashed gray;margin: 0 0.4em 0.5em 0.4em;box-sizing: border-box;padding-bottom: 0.4em;background-color: white;}#sk-container-id-3 div.sk-label label {font-family: monospace;font-weight: bold;display: inline-block;line-height: 1.2em;}#sk-container-id-3 div.sk-label-container {text-align: center;}#sk-container-id-3 div.sk-container {/* jupyter's `normalize.less` sets `[hidden] { display: none; }` but bootstrap.min.css set `[hidden] { display: none !important; }` so we also need the `!important` here to be able to override the default hidden behavior on the sphinx rendered scikit-learn.org. See: https://github.com/scikit-learn/scikit-learn/issues/21755 */display: inline-block !important;position: relative;}#sk-container-id-3 div.sk-text-repr-fallback {display: none;}</style><div id=\"sk-container-id-3\" class=\"sk-top-container\"><div class=\"sk-text-repr-fallback\"><pre>DecisionTreeClassifier(criterion=&#x27;entropy&#x27;)</pre><b>In a Jupyter environment, please rerun this cell to show the HTML representation or trust the notebook. <br />On GitHub, the HTML representation is unable to render, please try loading this page with nbviewer.org.</b></div><div class=\"sk-container\" hidden><div class=\"sk-item\"><div class=\"sk-estimator sk-toggleable\"><input class=\"sk-toggleable__control sk-hidden--visually\" id=\"sk-estimator-id-3\" type=\"checkbox\" checked><label for=\"sk-estimator-id-3\" class=\"sk-toggleable__label sk-toggleable__label-arrow\">DecisionTreeClassifier</label><div class=\"sk-toggleable__content\"><pre>DecisionTreeClassifier(criterion=&#x27;entropy&#x27;)</pre></div></div></div></div></div>"
      ],
      "text/plain": [
       "DecisionTreeClassifier(criterion='entropy')"
      ]
     },
     "execution_count": 35,
     "metadata": {},
     "output_type": "execute_result"
    }
   ],
   "source": [
    "arb.fit(X, y)"
   ]
  },
  {
   "cell_type": "code",
   "execution_count": 36,
   "id": "37ed4ff8",
   "metadata": {},
   "outputs": [],
   "source": [
    "ls_res = cross_val_score(estimator = arb, X=X, y=y, cv=4, scoring=\"roc_auc\")"
   ]
  },
  {
   "cell_type": "code",
   "execution_count": 37,
   "id": "34e219f5",
   "metadata": {},
   "outputs": [
    {
     "data": {
      "text/plain": [
       "(0.77030954666152, 0.00029015111107701607)"
      ]
     },
     "execution_count": 37,
     "metadata": {},
     "output_type": "execute_result"
    }
   ],
   "source": [
    "np.mean(ls_res), np.std(ls_res)"
   ]
  },
  {
   "cell_type": "markdown",
   "id": "35f4e1a9",
   "metadata": {},
   "source": [
    "Se observa que el desempeño de la regresión logística es mucho mejor que el desempeño del árbol."
   ]
  },
  {
   "cell_type": "markdown",
   "id": "e1ddd84a",
   "metadata": {},
   "source": [
    "Conclusiones\n",
    "==="
   ]
  },
  {
   "cell_type": "markdown",
   "id": "b57987a7",
   "metadata": {},
   "source": [
    "El desarrollo de modelos predictivos para estimar la probabilidad de default se puede reducir a un problema relativamente sencillo de clasificación binaria. Identificar aquéllos clientes que muy probablemente incurrirán en impago representa reducir pérdidas económicas para la insitución que otorga el crédito y optimización en la rentabilidad de la cartera.\n",
    "\n",
    "En este ejercicio el problema de predicción de impago se abordó, en primer lugar y ante el desconocimiento del detalle de cada variable, excluyendo las características con maypt porcentaje de valores vacíos (más del 30%) e imputando la media en los casos donde los valores vacíos representaban 30% o menos del total de observaciones. Posteriormente se redujo la dimensionalidad del dataset, seleccionando las variables mejor relacionadas a la variable objetivo y seleccionando aquéllas que mejor describieran la varianza de los datos. Finalmete se entrenaron los modelos de clasificación. Para este caso se entrenó, por simplicidad, una regresión logística que generó muy buenos resultados en el desempeño, incluso frente al árbol de decisión."
   ]
  },
  {
   "cell_type": "code",
   "execution_count": null,
   "id": "6f03d483",
   "metadata": {},
   "outputs": [],
   "source": []
  }
 ],
 "metadata": {
  "kernelspec": {
   "display_name": "Python 3 (ipykernel)",
   "language": "python",
   "name": "python3"
  },
  "language_info": {
   "codemirror_mode": {
    "name": "ipython",
    "version": 3
   },
   "file_extension": ".py",
   "mimetype": "text/x-python",
   "name": "python",
   "nbconvert_exporter": "python",
   "pygments_lexer": "ipython3",
   "version": "3.9.13"
  }
 },
 "nbformat": 4,
 "nbformat_minor": 5
}
